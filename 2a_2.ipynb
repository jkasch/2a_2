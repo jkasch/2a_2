{
 "cells": [
  {
   "cell_type": "code",
   "execution_count": 14,
   "id": "9c121061",
   "metadata": {},
   "outputs": [
    {
     "name": "stdout",
     "output_type": "stream",
     "text": [
      "['A', 'B', 'D', 'I', 'J', 'E', 'G1', 'K', 'C', 'F']\n"
     ]
    }
   ],
   "source": [
    "from collections import defaultdict\n",
    "\n",
    "def dfs(graph, start, goal=None):\n",
    "    visited = []\n",
    "    stack = [start]\n",
    "    while stack:\n",
    "        vertex = stack.pop()\n",
    "        if vertex not in visited:\n",
    "            visited.append(vertex)\n",
    "            if vertex == goal:\n",
    "                break\n",
    "            for child in graph[vertex][::-1]:\n",
    "                if child not in visited:\n",
    "                    stack.append(child)\n",
    "    return visited\n",
    "\n",
    "tree = {\n",
    "    'A': ['B', 'C'],\n",
    "    'B': ['D', 'E'],\n",
    "    'C': ['F', 'H'],\n",
    "    'D': ['I', 'J'],\n",
    "    'E': ['G1', 'K'],\n",
    "    'F': [],\n",
    "    'H': ['N', 'G2'],\n",
    "    'G1': [],\n",
    "    'K': [],\n",
    "    'I': [],\n",
    "    'J': [],\n",
    "    'N': [],\n",
    "    'G2': []\n",
    "}\n",
    "\n",
    "visited_nodes = dfs(tree, 'A', goal='F')\n",
    "print(visited_nodes)"
   ]
  },
  {
   "cell_type": "code",
   "execution_count": null,
   "id": "e393394d",
   "metadata": {},
   "outputs": [],
   "source": []
  }
 ],
 "metadata": {
  "kernelspec": {
   "display_name": "Python 3 (ipykernel)",
   "language": "python",
   "name": "python3"
  },
  "language_info": {
   "codemirror_mode": {
    "name": "ipython",
    "version": 3
   },
   "file_extension": ".py",
   "mimetype": "text/x-python",
   "name": "python",
   "nbconvert_exporter": "python",
   "pygments_lexer": "ipython3",
   "version": "3.11.3"
  }
 },
 "nbformat": 4,
 "nbformat_minor": 5
}
